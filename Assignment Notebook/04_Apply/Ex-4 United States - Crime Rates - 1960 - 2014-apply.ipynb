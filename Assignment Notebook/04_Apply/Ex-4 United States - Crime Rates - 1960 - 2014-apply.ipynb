{
 "cells": [
  {
   "cell_type": "code",
   "execution_count": 41,
   "id": "b9a2979d",
   "metadata": {},
   "outputs": [],
   "source": [
    "#1. Import the necessary libraries\n",
    "import pandas as pd"
   ]
  },
  {
   "cell_type": "code",
   "execution_count": 42,
   "id": "d91eec41",
   "metadata": {},
   "outputs": [],
   "source": [
    "#2. Import the dataset from this address.\n",
    "#3. Assign it to a variable called crime.\n",
    "crime=pd.read_csv('https://raw.githubusercontent.com/guipsamora/pandas_exercises/master/04_Apply/US_Crime_Rates/US_Crime_Rates_1960_2014.csv')"
   ]
  },
  {
   "cell_type": "code",
   "execution_count": 43,
   "id": "a5a2f190",
   "metadata": {},
   "outputs": [
    {
     "name": "stdout",
     "output_type": "stream",
     "text": [
      "<class 'pandas.core.frame.DataFrame'>\n",
      "RangeIndex: 55 entries, 0 to 54\n",
      "Data columns (total 12 columns):\n",
      " #   Column              Non-Null Count  Dtype\n",
      "---  ------              --------------  -----\n",
      " 0   Year                55 non-null     int64\n",
      " 1   Population          55 non-null     int64\n",
      " 2   Total               55 non-null     int64\n",
      " 3   Violent             55 non-null     int64\n",
      " 4   Property            55 non-null     int64\n",
      " 5   Murder              55 non-null     int64\n",
      " 6   Forcible_Rape       55 non-null     int64\n",
      " 7   Robbery             55 non-null     int64\n",
      " 8   Aggravated_assault  55 non-null     int64\n",
      " 9   Burglary            55 non-null     int64\n",
      " 10  Larceny_Theft       55 non-null     int64\n",
      " 11  Vehicle_Theft       55 non-null     int64\n",
      "dtypes: int64(12)\n",
      "memory usage: 5.3 KB\n"
     ]
    }
   ],
   "source": [
    "# 4. What is the type of the columns?\n",
    "crime.info()"
   ]
  },
  {
   "cell_type": "code",
   "execution_count": 44,
   "id": "98b8324a",
   "metadata": {},
   "outputs": [
    {
     "name": "stdout",
     "output_type": "stream",
     "text": [
      "<class 'pandas.core.frame.DataFrame'>\n",
      "RangeIndex: 55 entries, 0 to 54\n",
      "Data columns (total 12 columns):\n",
      " #   Column              Non-Null Count  Dtype         \n",
      "---  ------              --------------  -----         \n",
      " 0   Year                55 non-null     datetime64[ns]\n",
      " 1   Population          55 non-null     int64         \n",
      " 2   Total               55 non-null     int64         \n",
      " 3   Violent             55 non-null     int64         \n",
      " 4   Property            55 non-null     int64         \n",
      " 5   Murder              55 non-null     int64         \n",
      " 6   Forcible_Rape       55 non-null     int64         \n",
      " 7   Robbery             55 non-null     int64         \n",
      " 8   Aggravated_assault  55 non-null     int64         \n",
      " 9   Burglary            55 non-null     int64         \n",
      " 10  Larceny_Theft       55 non-null     int64         \n",
      " 11  Vehicle_Theft       55 non-null     int64         \n",
      "dtypes: datetime64[ns](1), int64(11)\n",
      "memory usage: 5.3 KB\n"
     ]
    }
   ],
   "source": [
    "# 5. Convert the type of the column Year to datetime64\n",
    "crime.Year=pd.to_datetime(crime.Year,format='%Y')\n",
    "crime.info()"
   ]
  },
  {
   "cell_type": "code",
   "execution_count": 45,
   "id": "841ecf34",
   "metadata": {},
   "outputs": [],
   "source": [
    "#6. Set the Year column as the index of the dataframe\n",
    "crime=crime.set_index(crime.Year,drop=True)"
   ]
  },
  {
   "cell_type": "code",
   "execution_count": 46,
   "id": "2dd0c934",
   "metadata": {},
   "outputs": [],
   "source": [
    "#7. Delete the Total column\n",
    "del crime['Total']"
   ]
  },
  {
   "cell_type": "code",
   "execution_count": 47,
   "id": "858de621",
   "metadata": {},
   "outputs": [],
   "source": [
    "#8. Group the year by decades and sum the values\n"
   ]
  },
  {
   "cell_type": "code",
   "execution_count": 48,
   "id": "0db06a21",
   "metadata": {},
   "outputs": [
    {
     "data": {
      "text/plain": [
       "Year                 2014-01-01\n",
       "Population           2014-01-01\n",
       "Violent              1992-01-01\n",
       "Property             1991-01-01\n",
       "Murder               1991-01-01\n",
       "Forcible_Rape        1992-01-01\n",
       "Robbery              1991-01-01\n",
       "Aggravated_assault   1993-01-01\n",
       "Burglary             1980-01-01\n",
       "Larceny_Theft        1991-01-01\n",
       "Vehicle_Theft        1991-01-01\n",
       "dtype: datetime64[ns]"
      ]
     },
     "execution_count": 48,
     "metadata": {},
     "output_type": "execute_result"
    }
   ],
   "source": [
    "#9. What is the most dangerous decade to live in the US?\n",
    "crime.idxmax(0)\n"
   ]
  }
 ],
 "metadata": {
  "kernelspec": {
   "display_name": "Python 3 (ipykernel)",
   "language": "python",
   "name": "python3"
  },
  "language_info": {
   "codemirror_mode": {
    "name": "ipython",
    "version": 3
   },
   "file_extension": ".py",
   "mimetype": "text/x-python",
   "name": "python",
   "nbconvert_exporter": "python",
   "pygments_lexer": "ipython3",
   "version": "3.9.7"
  }
 },
 "nbformat": 4,
 "nbformat_minor": 5
}
