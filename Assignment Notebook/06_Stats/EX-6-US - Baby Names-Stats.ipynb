{
 "cells": [
  {
   "cell_type": "code",
   "execution_count": 43,
   "id": "c52db5f1",
   "metadata": {},
   "outputs": [],
   "source": [
    "#1. Import the necessary libraries\n",
    "import pandas as pd"
   ]
  },
  {
   "cell_type": "code",
   "execution_count": 44,
   "id": "7d5bdbb9",
   "metadata": {},
   "outputs": [],
   "source": [
    "#2. Import the dataset from this address.\n",
    "#3. Assign it to a variable called baby_names.\n",
    "\n",
    "baby_names=pd.read_csv(\"https://raw.githubusercontent.com/guipsamora/pandas_exercises/master/06_Stats/US_Baby_Names/US_Baby_Names_right.csv\")"
   ]
  },
  {
   "cell_type": "code",
   "execution_count": 45,
   "id": "bc766277",
   "metadata": {},
   "outputs": [
    {
     "data": {
      "text/html": [
       "<div>\n",
       "<style scoped>\n",
       "    .dataframe tbody tr th:only-of-type {\n",
       "        vertical-align: middle;\n",
       "    }\n",
       "\n",
       "    .dataframe tbody tr th {\n",
       "        vertical-align: top;\n",
       "    }\n",
       "\n",
       "    .dataframe thead th {\n",
       "        text-align: right;\n",
       "    }\n",
       "</style>\n",
       "<table border=\"1\" class=\"dataframe\">\n",
       "  <thead>\n",
       "    <tr style=\"text-align: right;\">\n",
       "      <th></th>\n",
       "      <th>Unnamed: 0</th>\n",
       "      <th>Id</th>\n",
       "      <th>Name</th>\n",
       "      <th>Year</th>\n",
       "      <th>Gender</th>\n",
       "      <th>State</th>\n",
       "      <th>Count</th>\n",
       "    </tr>\n",
       "  </thead>\n",
       "  <tbody>\n",
       "    <tr>\n",
       "      <th>0</th>\n",
       "      <td>11349</td>\n",
       "      <td>11350</td>\n",
       "      <td>Emma</td>\n",
       "      <td>2004</td>\n",
       "      <td>F</td>\n",
       "      <td>AK</td>\n",
       "      <td>62</td>\n",
       "    </tr>\n",
       "    <tr>\n",
       "      <th>1</th>\n",
       "      <td>11350</td>\n",
       "      <td>11351</td>\n",
       "      <td>Madison</td>\n",
       "      <td>2004</td>\n",
       "      <td>F</td>\n",
       "      <td>AK</td>\n",
       "      <td>48</td>\n",
       "    </tr>\n",
       "    <tr>\n",
       "      <th>2</th>\n",
       "      <td>11351</td>\n",
       "      <td>11352</td>\n",
       "      <td>Hannah</td>\n",
       "      <td>2004</td>\n",
       "      <td>F</td>\n",
       "      <td>AK</td>\n",
       "      <td>46</td>\n",
       "    </tr>\n",
       "    <tr>\n",
       "      <th>3</th>\n",
       "      <td>11352</td>\n",
       "      <td>11353</td>\n",
       "      <td>Grace</td>\n",
       "      <td>2004</td>\n",
       "      <td>F</td>\n",
       "      <td>AK</td>\n",
       "      <td>44</td>\n",
       "    </tr>\n",
       "    <tr>\n",
       "      <th>4</th>\n",
       "      <td>11353</td>\n",
       "      <td>11354</td>\n",
       "      <td>Emily</td>\n",
       "      <td>2004</td>\n",
       "      <td>F</td>\n",
       "      <td>AK</td>\n",
       "      <td>41</td>\n",
       "    </tr>\n",
       "  </tbody>\n",
       "</table>\n",
       "</div>"
      ],
      "text/plain": [
       "   Unnamed: 0     Id     Name  Year Gender State  Count\n",
       "0       11349  11350     Emma  2004      F    AK     62\n",
       "1       11350  11351  Madison  2004      F    AK     48\n",
       "2       11351  11352   Hannah  2004      F    AK     46\n",
       "3       11352  11353    Grace  2004      F    AK     44\n",
       "4       11353  11354    Emily  2004      F    AK     41"
      ]
     },
     "execution_count": 45,
     "metadata": {},
     "output_type": "execute_result"
    }
   ],
   "source": [
    "#4. See the first 10 entries\n",
    "baby_names.head()"
   ]
  },
  {
   "cell_type": "code",
   "execution_count": 46,
   "id": "00d499c7",
   "metadata": {},
   "outputs": [],
   "source": [
    "# 5. Delete the column 'Unnamed: 0' and 'Id'\n",
    "del baby_names['Unnamed: 0']\n",
    "del baby_names['Id']"
   ]
  },
  {
   "cell_type": "code",
   "execution_count": 47,
   "id": "7fd1084c",
   "metadata": {},
   "outputs": [
    {
     "data": {
      "text/plain": [
       "'F'"
      ]
     },
     "execution_count": 47,
     "metadata": {},
     "output_type": "execute_result"
    }
   ],
   "source": [
    "#6. Is there more male or female names in the dataset?\n",
    "baby_names.Gender.value_counts().idxmax()"
   ]
  },
  {
   "cell_type": "code",
   "execution_count": 48,
   "id": "224a907c",
   "metadata": {},
   "outputs": [
    {
     "name": "stdout",
     "output_type": "stream",
     "text": [
      "(17632, 1)\n"
     ]
    },
    {
     "data": {
      "text/html": [
       "<div>\n",
       "<style scoped>\n",
       "    .dataframe tbody tr th:only-of-type {\n",
       "        vertical-align: middle;\n",
       "    }\n",
       "\n",
       "    .dataframe tbody tr th {\n",
       "        vertical-align: top;\n",
       "    }\n",
       "\n",
       "    .dataframe thead th {\n",
       "        text-align: right;\n",
       "    }\n",
       "</style>\n",
       "<table border=\"1\" class=\"dataframe\">\n",
       "  <thead>\n",
       "    <tr style=\"text-align: right;\">\n",
       "      <th></th>\n",
       "      <th>Count</th>\n",
       "    </tr>\n",
       "    <tr>\n",
       "      <th>Name</th>\n",
       "      <th></th>\n",
       "    </tr>\n",
       "  </thead>\n",
       "  <tbody>\n",
       "    <tr>\n",
       "      <th>Jacob</th>\n",
       "      <td>242874</td>\n",
       "    </tr>\n",
       "    <tr>\n",
       "      <th>Emma</th>\n",
       "      <td>214852</td>\n",
       "    </tr>\n",
       "    <tr>\n",
       "      <th>Michael</th>\n",
       "      <td>214405</td>\n",
       "    </tr>\n",
       "    <tr>\n",
       "      <th>Ethan</th>\n",
       "      <td>209277</td>\n",
       "    </tr>\n",
       "    <tr>\n",
       "      <th>Isabella</th>\n",
       "      <td>204798</td>\n",
       "    </tr>\n",
       "  </tbody>\n",
       "</table>\n",
       "</div>"
      ],
      "text/plain": [
       "           Count\n",
       "Name            \n",
       "Jacob     242874\n",
       "Emma      214852\n",
       "Michael   214405\n",
       "Ethan     209277\n",
       "Isabella  204798"
      ]
     },
     "execution_count": 48,
     "metadata": {},
     "output_type": "execute_result"
    }
   ],
   "source": [
    "#7. Group the dataset by name and assign to names\n",
    "\n",
    "del baby_names[\"Year\"]\n",
    "names = baby_names.groupby(\"Name\").sum()\n",
    "names.head()\n",
    "print(names.shape)\n",
    "names.sort_values(\"Count\", ascending = 0).head()\n"
   ]
  },
  {
   "cell_type": "code",
   "execution_count": 58,
   "id": "c99b7b4d",
   "metadata": {},
   "outputs": [
    {
     "data": {
      "text/plain": [
       "17632"
      ]
     },
     "execution_count": 58,
     "metadata": {},
     "output_type": "execute_result"
    }
   ],
   "source": [
    " #8. How many different names exist in the dataset?\n",
    "len(names)"
   ]
  },
  {
   "cell_type": "code",
   "execution_count": 68,
   "id": "e9c27f74",
   "metadata": {},
   "outputs": [
    {
     "data": {
      "text/plain": [
       "'Jacob'"
      ]
     },
     "execution_count": 68,
     "metadata": {},
     "output_type": "execute_result"
    }
   ],
   "source": [
    "#9. What is the name with most occurrences?\n",
    "\n",
    "names.Count.idxmax()"
   ]
  },
  {
   "cell_type": "code",
   "execution_count": 74,
   "id": "d089adbc",
   "metadata": {},
   "outputs": [
    {
     "data": {
      "text/plain": [
       "2578"
      ]
     },
     "execution_count": 74,
     "metadata": {},
     "output_type": "execute_result"
    }
   ],
   "source": [
    "#10. How many different names have the least occurrences?\n",
    "len(names[names.Count == names.Count.min()])\n"
   ]
  },
  {
   "cell_type": "code",
   "execution_count": 75,
   "id": "a6e12bed",
   "metadata": {},
   "outputs": [
    {
     "data": {
      "text/html": [
       "<div>\n",
       "<style scoped>\n",
       "    .dataframe tbody tr th:only-of-type {\n",
       "        vertical-align: middle;\n",
       "    }\n",
       "\n",
       "    .dataframe tbody tr th {\n",
       "        vertical-align: top;\n",
       "    }\n",
       "\n",
       "    .dataframe thead th {\n",
       "        text-align: right;\n",
       "    }\n",
       "</style>\n",
       "<table border=\"1\" class=\"dataframe\">\n",
       "  <thead>\n",
       "    <tr style=\"text-align: right;\">\n",
       "      <th></th>\n",
       "      <th>Count</th>\n",
       "    </tr>\n",
       "    <tr>\n",
       "      <th>Name</th>\n",
       "      <th></th>\n",
       "    </tr>\n",
       "  </thead>\n",
       "  <tbody>\n",
       "    <tr>\n",
       "      <th>Aishani</th>\n",
       "      <td>49</td>\n",
       "    </tr>\n",
       "    <tr>\n",
       "      <th>Alara</th>\n",
       "      <td>49</td>\n",
       "    </tr>\n",
       "    <tr>\n",
       "      <th>Alysse</th>\n",
       "      <td>49</td>\n",
       "    </tr>\n",
       "    <tr>\n",
       "      <th>Ameir</th>\n",
       "      <td>49</td>\n",
       "    </tr>\n",
       "    <tr>\n",
       "      <th>Anely</th>\n",
       "      <td>49</td>\n",
       "    </tr>\n",
       "    <tr>\n",
       "      <th>...</th>\n",
       "      <td>...</td>\n",
       "    </tr>\n",
       "    <tr>\n",
       "      <th>Sriram</th>\n",
       "      <td>49</td>\n",
       "    </tr>\n",
       "    <tr>\n",
       "      <th>Trinton</th>\n",
       "      <td>49</td>\n",
       "    </tr>\n",
       "    <tr>\n",
       "      <th>Vita</th>\n",
       "      <td>49</td>\n",
       "    </tr>\n",
       "    <tr>\n",
       "      <th>Yoni</th>\n",
       "      <td>49</td>\n",
       "    </tr>\n",
       "    <tr>\n",
       "      <th>Zuleima</th>\n",
       "      <td>49</td>\n",
       "    </tr>\n",
       "  </tbody>\n",
       "</table>\n",
       "<p>66 rows × 1 columns</p>\n",
       "</div>"
      ],
      "text/plain": [
       "         Count\n",
       "Name          \n",
       "Aishani     49\n",
       "Alara       49\n",
       "Alysse      49\n",
       "Ameir       49\n",
       "Anely       49\n",
       "...        ...\n",
       "Sriram      49\n",
       "Trinton     49\n",
       "Vita        49\n",
       "Yoni        49\n",
       "Zuleima     49\n",
       "\n",
       "[66 rows x 1 columns]"
      ]
     },
     "execution_count": 75,
     "metadata": {},
     "output_type": "execute_result"
    }
   ],
   "source": [
    "# 11. What is the median name occurrence?\n",
    "names[names.Count == names.Count.median()]\n"
   ]
  },
  {
   "cell_type": "code",
   "execution_count": 77,
   "id": "736a1bc5",
   "metadata": {},
   "outputs": [
    {
     "data": {
      "text/plain": [
       "Count    11006.069468\n",
       "dtype: float64"
      ]
     },
     "execution_count": 77,
     "metadata": {},
     "output_type": "execute_result"
    }
   ],
   "source": [
    "#12. What is the standard deviation of names?\n",
    "names.std()"
   ]
  },
  {
   "cell_type": "code",
   "execution_count": 78,
   "id": "b7751171",
   "metadata": {},
   "outputs": [
    {
     "data": {
      "text/html": [
       "<div>\n",
       "<style scoped>\n",
       "    .dataframe tbody tr th:only-of-type {\n",
       "        vertical-align: middle;\n",
       "    }\n",
       "\n",
       "    .dataframe tbody tr th {\n",
       "        vertical-align: top;\n",
       "    }\n",
       "\n",
       "    .dataframe thead th {\n",
       "        text-align: right;\n",
       "    }\n",
       "</style>\n",
       "<table border=\"1\" class=\"dataframe\">\n",
       "  <thead>\n",
       "    <tr style=\"text-align: right;\">\n",
       "      <th></th>\n",
       "      <th>Count</th>\n",
       "    </tr>\n",
       "  </thead>\n",
       "  <tbody>\n",
       "    <tr>\n",
       "      <th>count</th>\n",
       "      <td>17632.000000</td>\n",
       "    </tr>\n",
       "    <tr>\n",
       "      <th>mean</th>\n",
       "      <td>2008.932169</td>\n",
       "    </tr>\n",
       "    <tr>\n",
       "      <th>std</th>\n",
       "      <td>11006.069468</td>\n",
       "    </tr>\n",
       "    <tr>\n",
       "      <th>min</th>\n",
       "      <td>5.000000</td>\n",
       "    </tr>\n",
       "    <tr>\n",
       "      <th>25%</th>\n",
       "      <td>11.000000</td>\n",
       "    </tr>\n",
       "    <tr>\n",
       "      <th>50%</th>\n",
       "      <td>49.000000</td>\n",
       "    </tr>\n",
       "    <tr>\n",
       "      <th>75%</th>\n",
       "      <td>337.000000</td>\n",
       "    </tr>\n",
       "    <tr>\n",
       "      <th>max</th>\n",
       "      <td>242874.000000</td>\n",
       "    </tr>\n",
       "  </tbody>\n",
       "</table>\n",
       "</div>"
      ],
      "text/plain": [
       "               Count\n",
       "count   17632.000000\n",
       "mean     2008.932169\n",
       "std     11006.069468\n",
       "min         5.000000\n",
       "25%        11.000000\n",
       "50%        49.000000\n",
       "75%       337.000000\n",
       "max    242874.000000"
      ]
     },
     "execution_count": 78,
     "metadata": {},
     "output_type": "execute_result"
    }
   ],
   "source": [
    "#13. Get a summary with the mean, min, max, std and quartiles.\n",
    "names.describe()\n"
   ]
  }
 ],
 "metadata": {
  "kernelspec": {
   "display_name": "Python 3 (ipykernel)",
   "language": "python",
   "name": "python3"
  },
  "language_info": {
   "codemirror_mode": {
    "name": "ipython",
    "version": 3
   },
   "file_extension": ".py",
   "mimetype": "text/x-python",
   "name": "python",
   "nbconvert_exporter": "python",
   "pygments_lexer": "ipython3",
   "version": "3.9.7"
  }
 },
 "nbformat": 4,
 "nbformat_minor": 5
}
